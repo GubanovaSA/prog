{
  "nbformat": 4,
  "nbformat_minor": 0,
  "metadata": {
    "colab": {
      "provenance": [],
      "authorship_tag": "ABX9TyPANq0EhKqwvTyNb6b5/PlQ",
      "include_colab_link": true
    },
    "kernelspec": {
      "name": "python3",
      "display_name": "Python 3"
    },
    "language_info": {
      "name": "python"
    }
  },
  "cells": [
    {
      "cell_type": "markdown",
      "metadata": {
        "id": "view-in-github",
        "colab_type": "text"
      },
      "source": [
        "<a href=\"https://colab.research.google.com/github/GubanovaSA/prog/blob/main/Untitled21.ipynb\" target=\"_parent\"><img src=\"https://colab.research.google.com/assets/colab-badge.svg\" alt=\"Open In Colab\"/></a>"
      ]
    },
    {
      "cell_type": "markdown",
      "source": [
        "Вариант 7.\n",
        "1. Построить граф из 6 вершин и ребер: (1,2), (2,3), (3,4), (4,5), (1,6).\n",
        "2. Построить матрицу смежности и матрицу инцидентности.\n",
        "3. Найти компоненты связности."
      ],
      "metadata": {
        "id": "GvteU02qO4vd"
      }
    },
    {
      "cell_type": "markdown",
      "source": [
        "Построение графа"
      ],
      "metadata": {
        "id": "xLf9vp_qOEUE"
      }
    },
    {
      "cell_type": "code",
      "execution_count": null,
      "metadata": {
        "id": "Q6Ow4AA8OB62"
      },
      "outputs": [],
      "source": [
        "1 — 2 — 3 — 4 — 5\n",
        "|\n",
        "6"
      ]
    },
    {
      "cell_type": "markdown",
      "source": [
        "Матрица смежности"
      ],
      "metadata": {
        "id": "qTTNqE6nOIoA"
      }
    },
    {
      "cell_type": "code",
      "source": [
        "def create_adjacency_matrix(edges, num_vertices):\n",
        "    # Создаем матрицу размера num_vertices x num_vertices, заполненную нулями\n",
        "    adjacency_matrix = [[0 for _ in range(num_vertices)] for _ in range(num_vertices)]\n",
        "\n",
        "    # Заполняем матрицу: если есть ребро между вершинами u и v, ставим 1\n",
        "    for edge in edges:\n",
        "        u, v = edge\n",
        "        adjacency_matrix[u - 1][v - 1] = 1\n",
        "        adjacency_matrix[v - 1][u - 1] = 1  # Граф неориентированный\n",
        "\n",
        "    return adjacency_matrix\n",
        "\n",
        "# Задаем граф (список ребер) и количество вершин\n",
        "edges = [(1, 2), (2, 3), (3, 4), (4, 5), (1, 6)]\n",
        "num_vertices = 6\n",
        "\n",
        "# Создаем матрицу смежности\n",
        "adjacency_matrix = create_adjacency_matrix(edges, num_vertices)\n",
        "\n",
        "# Выводим матрицу смежности\n",
        "print(\"Матрица смежности:\")\n",
        "for row in adjacency_matrix:\n",
        "    print(row)"
      ],
      "metadata": {
        "id": "Z1nTqkoaODF9",
        "outputId": "cf1055b8-4ee0-4afd-fea1-ea8bec8f2d66",
        "colab": {
          "base_uri": "https://localhost:8080/"
        }
      },
      "execution_count": 1,
      "outputs": [
        {
          "output_type": "stream",
          "name": "stdout",
          "text": [
            "Матрица смежности:\n",
            "[0, 1, 0, 0, 0, 1]\n",
            "[1, 0, 1, 0, 0, 0]\n",
            "[0, 1, 0, 1, 0, 0]\n",
            "[0, 0, 1, 0, 1, 0]\n",
            "[0, 0, 0, 1, 0, 0]\n",
            "[1, 0, 0, 0, 0, 0]\n"
          ]
        }
      ]
    },
    {
      "cell_type": "code",
      "source": [
        "Матрица инцидентности"
      ],
      "metadata": {
        "id": "nWEbeQC0OUOR"
      },
      "execution_count": null,
      "outputs": []
    },
    {
      "cell_type": "code",
      "source": [
        "def create_incidence_matrix(edges, num_vertices):\n",
        "    # Количество ребер\n",
        "    num_edges = len(edges)\n",
        "\n",
        "    # Создаем матрицу размера num_vertices x num_edges, заполненную нулями\n",
        "    incidence_matrix = [[0 for _ in range(num_edges)] for _ in range(num_vertices)]\n",
        "\n",
        "    # Заполняем матрицу: если вершина инцидентна ребру, ставим 1\n",
        "    for edge_index, edge in enumerate(edges):\n",
        "        u, v = edge\n",
        "        incidence_matrix[u - 1][edge_index] = 1\n",
        "        incidence_matrix[v - 1][edge_index] = 1  # Граф неориентированный\n",
        "\n",
        "    return incidence_matrix\n",
        "\n",
        "# Задаем граф (список ребер) и количество вершин\n",
        "edges = [(1, 2), (2, 3), (3, 4), (4, 5), (1, 6)]\n",
        "num_vertices = 6\n",
        "\n",
        "# Создаем матрицу инцидентности\n",
        "incidence_matrix = create_incidence_matrix(edges, num_vertices)\n",
        "\n",
        "# Выводим матрицу инцидентности\n",
        "print(\"Матрица инцидентности:\")\n",
        "for row in incidence_matrix:\n",
        "    print(row)"
      ],
      "metadata": {
        "id": "aRF9ZCiMOdP5",
        "outputId": "d5cdd80a-375a-4e86-e1ed-ac3c3e29652d",
        "colab": {
          "base_uri": "https://localhost:8080/"
        }
      },
      "execution_count": 2,
      "outputs": [
        {
          "output_type": "stream",
          "name": "stdout",
          "text": [
            "Матрица инцидентности:\n",
            "[1, 0, 0, 0, 1]\n",
            "[1, 1, 0, 0, 0]\n",
            "[0, 1, 1, 0, 0]\n",
            "[0, 0, 1, 1, 0]\n",
            "[0, 0, 0, 1, 0]\n",
            "[0, 0, 0, 0, 1]\n"
          ]
        }
      ]
    },
    {
      "cell_type": "code",
      "source": [
        "def find_connected_components(adjacency_matrix):\n",
        "    num_vertices = len(adjacency_matrix)\n",
        "    visited = [False] * num_vertices\n",
        "    components = []\n",
        "\n",
        "    def dfs(vertex, current_component):\n",
        "        visited[vertex] = True\n",
        "        current_component.append(vertex + 1)  # Вершина хранится с индексом +1\n",
        "        for neighbor, is_connected in enumerate(adjacency_matrix[vertex]):\n",
        "            if is_connected and not visited[neighbor]:\n",
        "                dfs(neighbor, current_component)\n",
        "\n",
        "    # Запускаем поиск компонент\n",
        "    for vertex in range(num_vertices):\n",
        "        if not visited[vertex]:\n",
        "            current_component = []\n",
        "            dfs(vertex, current_component)\n",
        "            components.append(current_component)\n",
        "\n",
        "    return components\n",
        "\n",
        "# Матрица смежности для графа с ребрами (1,2), (2,3), (3,4), (4,5), (1,6)\n",
        "adjacency_matrix = [\n",
        "    [0, 1, 0, 0, 0, 1],  # Вершина 1\n",
        "    [1, 0, 1, 0, 0, 0],  # Вершина 2\n",
        "    [0, 1, 0, 1, 0, 0],  # Вершина 3\n",
        "    [0, 0, 1, 0, 1, 0],  # Вершина 4\n",
        "    [0, 0, 0, 1, 0, 0],  # Вершина 5\n",
        "    [1, 0, 0, 0, 0, 0]   # Вершина 6\n",
        "]\n",
        "\n",
        "# Находим компоненты связности\n",
        "connected_components = find_connected_components(adjacency_matrix)\n",
        "\n",
        "# Выводим результат\n",
        "print(\"Компоненты связности графа:\")\n",
        "for i, component in enumerate(connected_components, start=1):\n",
        "    print(f\"Компонента {i}: {component}\")"
      ],
      "metadata": {
        "id": "rsXpVruWOfVn",
        "outputId": "9c83a5f6-07fc-4d4f-f8ae-a804a1c2585e",
        "colab": {
          "base_uri": "https://localhost:8080/"
        }
      },
      "execution_count": 3,
      "outputs": [
        {
          "output_type": "stream",
          "name": "stdout",
          "text": [
            "Компоненты связности графа:\n",
            "Компонента 1: [1, 2, 3, 4, 5, 6]\n"
          ]
        }
      ]
    }
  ]
}