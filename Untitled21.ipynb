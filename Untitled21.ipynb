{
  "nbformat": 4,
  "nbformat_minor": 0,
  "metadata": {
    "colab": {
      "provenance": [],
      "authorship_tag": "ABX9TyO1i3ewI//NwrgzMs1DTJGQ",
      "include_colab_link": true
    },
    "kernelspec": {
      "name": "python3",
      "display_name": "Python 3"
    },
    "language_info": {
      "name": "python"
    }
  },
  "cells": [
    {
      "cell_type": "markdown",
      "metadata": {
        "id": "view-in-github",
        "colab_type": "text"
      },
      "source": [
        "<a href=\"https://colab.research.google.com/github/GubanovaSA/prog/blob/main/Untitled21.ipynb\" target=\"_parent\"><img src=\"https://colab.research.google.com/assets/colab-badge.svg\" alt=\"Open In Colab\"/></a>"
      ]
    },
    {
      "cell_type": "markdown",
      "source": [
        "Вариант 7.\n",
        "1. Построить граф из 6 вершин и ребер: (1,2), (2,3), (3,4), (4,5), (1,6).\n",
        "2. Построить матрицу смежности и матрицу инцидентности.\n",
        "3. Найти компоненты связности."
      ],
      "metadata": {
        "id": "GvteU02qO4vd"
      }
    },
    {
      "cell_type": "markdown",
      "source": [
        "Построение графа"
      ],
      "metadata": {
        "id": "xLf9vp_qOEUE"
      }
    },
    {
      "cell_type": "code",
      "execution_count": null,
      "metadata": {
        "id": "Q6Ow4AA8OB62"
      },
      "outputs": [],
      "source": [
        "1 — 2 — 3 — 4 — 5\n",
        "|\n",
        "6"
      ]
    },
    {
      "cell_type": "markdown",
      "source": [
        "Матрица смежности"
      ],
      "metadata": {
        "id": "qTTNqE6nOIoA"
      }
    },
    {
      "cell_type": "code",
      "source": [
        "\n",
        "[0, 1, 0, 0, 0, 1]\n",
        "[1, 0, 1, 0, 0, 0]\n",
        "[0, 1, 0, 1, 0, 0]\n",
        "[0, 0, 1, 0, 1, 0]\n",
        "[0, 0, 0, 1, 0, 0]\n",
        "[1, 0, 0, 0, 0, 0]"
      ],
      "metadata": {
        "id": "Z1nTqkoaODF9"
      },
      "execution_count": null,
      "outputs": []
    },
    {
      "cell_type": "code",
      "source": [
        "Матрица инцидентности"
      ],
      "metadata": {
        "id": "nWEbeQC0OUOR"
      },
      "execution_count": null,
      "outputs": []
    },
    {
      "cell_type": "code",
      "source": [
        "    (1,2) (2,3) (3,4) (4,5) (1,6)\n",
        "1 [   1,    0,    0,    0,    1 ]\n",
        "2 [   1,    1,    0,    0,    0 ]\n",
        "3 [   0,    1,    1,    0,    0 ]\n",
        "4 [   0,    0,    1,    1,    0 ]\n",
        "5 [   0,    0,    0,    1,    0 ]\n",
        "6 [   0,    0,    0,    0,    1 ]"
      ],
      "metadata": {
        "id": "aRF9ZCiMOdP5"
      },
      "execution_count": null,
      "outputs": []
    },
    {
      "cell_type": "code",
      "source": [
        "{1, 2, 3, 4, 5, 6} - компонента связности"
      ],
      "metadata": {
        "id": "rsXpVruWOfVn"
      },
      "execution_count": null,
      "outputs": []
    }
  ]
}