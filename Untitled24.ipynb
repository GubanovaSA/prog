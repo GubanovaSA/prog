{
  "nbformat": 4,
  "nbformat_minor": 0,
  "metadata": {
    "colab": {
      "provenance": [],
      "authorship_tag": "ABX9TyOzvkmRJgLARlYmvRqDKMoT",
      "include_colab_link": true
    },
    "kernelspec": {
      "name": "python3",
      "display_name": "Python 3"
    },
    "language_info": {
      "name": "python"
    }
  },
  "cells": [
    {
      "cell_type": "markdown",
      "metadata": {
        "id": "view-in-github",
        "colab_type": "text"
      },
      "source": [
        "<a href=\"https://colab.research.google.com/github/GubanovaSA/prog/blob/main/Untitled24.ipynb\" target=\"_parent\"><img src=\"https://colab.research.google.com/assets/colab-badge.svg\" alt=\"Open In Colab\"/></a>"
      ]
    },
    {
      "cell_type": "code",
      "execution_count": null,
      "metadata": {
        "id": "rAtbEqTavBfN"
      },
      "outputs": [],
      "source": [
        "-- Создаем базу данных\n",
        "CREATE DATABASE IF NOT EXISTS crm_system;\n",
        "USE crm_system;\n",
        "\n",
        "-- Создаем таблицу clients\n",
        "CREATE TABLE clients (\n",
        "    client_id INT PRIMARY KEY AUTO_INCREMENT,\n",
        "    company_name VARCHAR(100) NOT NULL,\n",
        "    phone VARCHAR(20)\n",
        ");\n",
        "\n",
        "-- Создаем таблицу deals\n",
        "CREATE TABLE deals (\n",
        "    deal_id INT PRIMARY KEY AUTO_INCREMENT,\n",
        "    client_id INT,\n",
        "    deal_name VARCHAR(100) NOT NULL,\n",
        "    amount DECIMAL(10, 2) NOT NULL,\n",
        "    stage VARCHAR(50),\n",
        "    FOREIGN KEY (client_id) REFERENCES clients(client_id)\n",
        ");\n",
        "\n",
        "-- Вставляем тестовые данные\n",
        "INSERT INTO clients (company_name, phone) VALUES\n",
        "('ООО \"Ромашка\"', '+7-495-111-11-11'),\n",
        "('АО \"Технологии\"', '+7-495-222-22-22'),\n",
        "('ИП Иванов', '+7-495-333-33-33');\n",
        "\n",
        "INSERT INTO deals (client_id, deal_name, amount, stage) VALUES\n",
        "(1, 'Разработка сайта', 75000.00, 'Закрыта'),\n",
        "(1, 'Техническая поддержка', 25000.00, 'В работе'),\n",
        "(2, 'Внедрение CRM', 120000.00, 'Переговоры'),\n",
        "(2, 'Обучение сотрудников', 45000.00, 'Предложение'),\n",
        "(3, 'Консультация', 30000.00, 'Завершена');\n",
        "\n",
        "-- Запрос для вывода всех сделок на сумму более 50000\n",
        "SELECT\n",
        "    d.deal_id,\n",
        "    d.deal_name,\n",
        "    d.amount,\n",
        "    d.stage,\n",
        "    c.company_name,\n",
        "    c.phone\n",
        "FROM deals d\n",
        "JOIN clients c ON d.client_id = c.client_id\n",
        "WHERE d.amount > 50000\n",
        "ORDER BY d.amount DESC;"
      ]
    }
  ]
}