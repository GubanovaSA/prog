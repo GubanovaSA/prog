{
  "nbformat": 4,
  "nbformat_minor": 0,
  "metadata": {
    "colab": {
      "provenance": [],
      "authorship_tag": "ABX9TyPFfTX5B8jKWgUPLs6alJfK",
      "include_colab_link": true
    },
    "kernelspec": {
      "name": "python3",
      "display_name": "Python 3"
    },
    "language_info": {
      "name": "python"
    }
  },
  "cells": [
    {
      "cell_type": "markdown",
      "metadata": {
        "id": "view-in-github",
        "colab_type": "text"
      },
      "source": [
        "<a href=\"https://colab.research.google.com/github/GubanovaSA/prog/blob/main/Untitled0.ipynb\" target=\"_parent\"><img src=\"https://colab.research.google.com/assets/colab-badge.svg\" alt=\"Open In Colab\"/></a>"
      ]
    },
    {
      "cell_type": "code",
      "execution_count": 2,
      "metadata": {
        "colab": {
          "base_uri": "https://localhost:8080/"
        },
        "id": "Az_vxoPprc32",
        "outputId": "3daada8c-a61d-474c-ff5c-e7c806a36e58"
      },
      "outputs": [
        {
          "output_type": "stream",
          "name": "stdout",
          "text": [
            "Сумма цифр 12345: 15\n"
          ]
        }
      ],
      "source": [
        "def sum_digits(n):\n",
        "\n",
        "  if n < 10:\n",
        "    return n #O(1)\n",
        "  else:\n",
        "    return n % 10 + sum_digits(n // 10)  #O(1)\n",
        "number1 = 12345\n",
        "result1 = sum_digits(number1)\n",
        "print(f\"Сумма цифр {number1}: {result1}\")  # Вывод: Сумма цифр 12345: 15\n"
      ]
    }
  ]
}