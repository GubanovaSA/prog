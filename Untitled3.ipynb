{
  "nbformat": 4,
  "nbformat_minor": 0,
  "metadata": {
    "colab": {
      "provenance": [],
      "authorship_tag": "ABX9TyPoOiNTREoYkmGeQ4BSRwEx",
      "include_colab_link": true
    },
    "kernelspec": {
      "name": "python3",
      "display_name": "Python 3"
    },
    "language_info": {
      "name": "python"
    }
  },
  "cells": [
    {
      "cell_type": "markdown",
      "metadata": {
        "id": "view-in-github",
        "colab_type": "text"
      },
      "source": [
        "<a href=\"https://colab.research.google.com/github/GubanovaSA/prog/blob/main/Untitled3.ipynb\" target=\"_parent\"><img src=\"https://colab.research.google.com/assets/colab-badge.svg\" alt=\"Open In Colab\"/></a>"
      ]
    },
    {
      "cell_type": "code",
      "source": [],
      "metadata": {
        "id": "3WurgKnizjMB"
      },
      "execution_count": null,
      "outputs": []
    },
    {
      "cell_type": "code",
      "source": [
        "# Задание task_02_01.\n",
        "#\n",
        "# Выполнил: Губанова Светлана\n",
        "# Группа: ЦИБ-241\n",
        "\n",
        "\n",
        "\n",
        "x = float(input(\"Введите число x:\"))\n",
        "\n",
        "if x >= 0:\n",
        "    f = (x**0.5)+(x**2)\n",
        "else:\n",
        "    f = 1 / x\n",
        "\n",
        "print(\"f =\",round(f ,2))\n",
        "\n",
        "x = float(input(\"Введите число x:\"))\n",
        "\n",
        "if x >= 0:\n",
        "    f = (x**0.5)+(x**2)\n",
        "else:\n",
        "    f = 1 / x\n",
        "\n",
        "print(\"f =\",round(f ,2))\n",
        "\n",
        "x = float(input(\"Введите число x:\"))\n",
        "\n",
        "if x >= 0:\n",
        "    f = (x**0.5)+(x**2)\n",
        "else:\n",
        "    f = 1 / x\n",
        "\n",
        "print(\"f =\",round(f ,2))\n",
        "\n",
        "# --------------\n",
        "# Пример вывода:\n",
        "#\n",
        "# Введите число x: -10\n",
        "# f = -0.10\n",
        "\n",
        "# Введите число x: 0\n",
        "# f = 0.00\n",
        "\n",
        "# Введите число x: 10\n",
        "# f = 103.16"
      ],
      "metadata": {
        "colab": {
          "base_uri": "https://localhost:8080/"
        },
        "id": "MsnD54AdzjT6",
        "outputId": "2addacb4-37e7-40d3-bdc4-a6e874c7745c"
      },
      "execution_count": null,
      "outputs": [
        {
          "output_type": "stream",
          "name": "stdout",
          "text": [
            "Введите число x:-10\n",
            "f =-0.1\n"
          ]
        }
      ]
    },
    {
      "cell_type": "code",
      "source": [
        "# Программирование на языке высокого уровня (Python).\n",
        "# https://www.yuripetrov.ru/edu/python\n",
        "# Задание task_02_02.\n",
        "#\n",
        "# Выполнил: Губанова С А\n",
        "# Группа: циб-241\n",
        "# E-mail: svetaksa634@mail.ru\n",
        "\n",
        "\n",
        "a1 = int(input(\"Введите первое число:\"))\n",
        "a2 = int(input(\"Введите второе число:\"))\n",
        "\n",
        "# Переменная 'a_min' должна содержать минимум, 'a_max' - максимум\n",
        "a_min= min(a1, a2)\n",
        "a_max= max(a1, a2)\n",
        "print(\"Максимум:\", a_max, \"минимум:\", a_min)\n",
        "a1 = int(input(\"Введите первое число:\"))\n",
        "a2 = int(input(\"Введите второе число:\"))\n",
        "\n",
        "a_min= min(a1, a2)\n",
        "a_max= max(a1, a2)\n",
        "print(\"Максимум:\", a_max, \"минимум:\", a_min)\n",
        "a1 = int(input(\"Введите первое число:\"))\n",
        "a2 = int(input(\"Введите второе число:\"))\n",
        "\n",
        "a_min= min(a1, a2)\n",
        "a_max= max(a1, a2)\n",
        "print(\"Максимум:\", a_max, \"минимум:\",5 a_min)\n",
        "\n",
        "# --------------\n",
        "# Пример вывода:\n",
        "#\n",
        "# Введите первое число: 1\n",
        "# Введите второе число: 2\n",
        "# Максимум: 2, минимум: 1\n",
        "\n",
        "# Введите первое число: 5\n",
        "# Введите второе число: 5\n",
        "# Максимум: 5, минимум: 5\n",
        "\n",
        "# Введите первое число: 100\n",
        "# Введите второе число: -1\n",
        "# Максимум: 100, минимум: -1"
      ],
      "metadata": {
        "colab": {
          "base_uri": "https://localhost:8080/"
        },
        "id": "qwS1OIm83hbz",
        "outputId": "46fa297a-866f-4cbd-d1b4-1f5b67b514aa"
      },
      "execution_count": null,
      "outputs": [
        {
          "output_type": "stream",
          "name": "stdout",
          "text": [
            "Введите первое число:1\n",
            "Введите второе число:2\n",
            "Максимум: 2 минимум: 1\n",
            "Введите первое число:5\n",
            "Введите второе число:5\n",
            "Максимум: 5 минимум: 5\n",
            "Введите первое число:100\n",
            "Введите второе число:-1\n",
            "Максимум: 100 минимум: -1\n"
          ]
        }
      ]
    },
    {
      "cell_type": "code",
      "source": [
        "# Задание task_02_03.\n",
        "\n",
        "a = int(input(\"Ширина форточки:\"))\n",
        "b = int(input(\"Высота форточки:\"))\n",
        "d = int(input(\"Диаметр головы:\"))\n",
        "\n",
        "# Введенные числа должны быть положительными, если так - осуществляем\n",
        "# расчет, иначе выводим \"Проверьте ввод\"\n",
        "if a>0 and b>0 and d>0:\n",
        "    fix = 1\n",
        "    if fix + d <= a and d+fix <= b:\n",
        "      print(\"Да\")\n",
        "    else:\n",
        "      print(\"Нет\")\n",
        "else:\n",
        "  print(\"Проверьте код\")\n",
        "\n",
        "\n",
        "\n",
        "a = int(input(\"Ширина форточки:\"))\n",
        "b = int(input(\"Высота форточки:\"))\n",
        "d = int(input(\"Диаметр головы:\"))\n",
        "\n",
        "# Введенные числа должны быть положительными, если так - осуществляем\n",
        "# расчет, иначе выводим \"Проверьте ввод\"\n",
        "if a>0 and b>0 and d>0:\n",
        "    fix = 1\n",
        "    if fix + d <= a and d+fix <= b:\n",
        "      print(\"Да\")\n",
        "    else:\n",
        "      print(\"Нет\")\n",
        "else:\n",
        "  print(\"Проверьте код\")\n",
        "\n",
        "\n",
        "\n",
        "# Пример вывода:\n",
        "#\n",
        "# Ширина форточки: 5\n",
        "# Высота форточки: 6\n",
        "# Диаметр головы: 6\n",
        "# Нет\n",
        "\n",
        "# Ширина форточки: 6\n",
        "# Высота форточки: 7\n",
        "# Диаметр головы: 4\n",
        "# Да"
      ],
      "metadata": {
        "colab": {
          "base_uri": "https://localhost:8080/"
        },
        "id": "TYyTz1QL3hWc",
        "outputId": "c7d8b489-5d2d-4074-b4a0-8b89996df7d3"
      },
      "execution_count": null,
      "outputs": [
        {
          "output_type": "stream",
          "name": "stdout",
          "text": [
            "Ширина форточки:5\n",
            "Высота форточки:6\n",
            "Диаметр головы:6\n",
            "Нет\n",
            "Ширина форточки:6\n",
            "Высота форточки:7\n",
            "Диаметр головы:4\n",
            "Да\n"
          ]
        }
      ]
    },
    {
      "cell_type": "code",
      "source": [
        "# Задание task_02_04.\n",
        "\n",
        "year_today = int(input(\"Введите текущий год:\"))\n",
        "month_today = int(input(\"Введите текущий месяц:\"))\n",
        "\n",
        "year = int(input(\"Введите год рождения:\"))\n",
        "month = int(input(\"Введите месяц рождения:\"))\n",
        "\n",
        "# Считается, введенные значения находятся в допустимых пределах,и\n",
        "# что 'month_today' >= 'month' (проверять значения не нужно)\n",
        "# Результат необходимо записать в переменную 'age'\n",
        "age = year_today - year\n",
        "print(\"Число полных лет: \", age)\n",
        "\n",
        "\n",
        "\n",
        "year_today = int(input(\"Введите текущий год:\"))\n",
        "month_today = int(input(\"Введите текущий месяц:\"))\n",
        "\n",
        "year = int(input(\"Введите год рождения:\"))\n",
        "month = int(input(\"Введите месяц рождения:\"))\n",
        "age = year_today - year\n",
        "print(\"Число полных лет: \", age)\n",
        "\n",
        "\n",
        "year_today = int(input(\"Введите текущий год:\"))\n",
        "month_today = int(input(\"Введите текущий месяц:\"))\n",
        "\n",
        "year = int(input(\"Введите год рождения:\"))\n",
        "month = int(input(\"Введите месяц рождения:\"))\n",
        "age = year_today - year\n",
        "print(\"Число полных лет: \", age)\n",
        "20\n",
        "\n",
        "\n",
        "\n",
        "# --------------\n",
        "# Пример вывода:\n",
        "#\n",
        "# Введите текущий год: 2017\n",
        "# Введите текущий месяц: 5\n",
        "# Введите год рождения: 2000\n",
        "# Введите месяц рождения: 1\n",
        "# Число полных лет:  17\n",
        "#\n",
        "# Введите текущий год: 2015\n",
        "# Введите текущий месяц: 6\n",
        "# Введите год рождения: 2010\n",
        "# Введите месяц рождения: 8\n",
        "# Число полных лет:  4\n",
        "#\n",
        "# Введите текущий год: 2020\n",
        "# Введите текущий месяц: 5\n",
        "# Введите год рождения: 2000\n",
        "# Введите месяц рождения: 5\n",
        "# Число полных лет:  20"
      ],
      "metadata": {
        "colab": {
          "base_uri": "https://localhost:8080/"
        },
        "id": "WM3DLXid3hRX",
        "outputId": "9af6d0e0-c004-45de-d68f-a9cdfec9d72a"
      },
      "execution_count": null,
      "outputs": [
        {
          "output_type": "stream",
          "name": "stdout",
          "text": [
            "Введите текущий год:2017\n",
            "Введите текущий месяц:5\n",
            "Введите год рождения:2000\n",
            "Введите месяц рождения:1\n",
            "Число полных лет:  17\n",
            "Введите текущий год:2015\n",
            "Введите текущий месяц:6\n",
            "Введите год рождения:2010\n",
            "Введите месяц рождения:8\n",
            "Число полных лет:  5\n",
            "Введите текущий год:2020\n",
            "Введите текущий месяц:5\n",
            "Введите год рождения:2000\n",
            "Введите месяц рождения:5\n",
            "Число полных лет:  20\n"
          ]
        }
      ]
    },
    {
      "cell_type": "code",
      "source": [
        "# Задание task_02_05.\n",
        "\n",
        "x = int(input(\"Введите координату x:\"))\n",
        "y = int(input(\"Введите координату y:\"))\n",
        "\n",
        "if x>0 and y>0:\n",
        "    print(\"1-я четверть\")\n",
        "elif x<0 and y>0:\n",
        "    print(\"2-я четверть\")\n",
        "elif x<0 and y<0:\n",
        "    print(\"3-я четверть\")\n",
        "elif x>0 and y<0:\n",
        "    print(\"4-я четверть\")\n",
        "\n",
        "# --------------\n",
        "# Пример вывода:\n",
        "#\n",
        "# Введите координату x: 5\n",
        "# Введите координату y: 7\n",
        "# 1-я четверть"
      ],
      "metadata": {
        "colab": {
          "base_uri": "https://localhost:8080/"
        },
        "id": "c8FSRbyK3hMe",
        "outputId": "2d060243-d5eb-4938-8d65-eb4bf70d8fa1"
      },
      "execution_count": null,
      "outputs": [
        {
          "output_type": "stream",
          "name": "stdout",
          "text": [
            "Введите координату x:5\n",
            "Введите координату y:7\n",
            "1-я четверть\n"
          ]
        }
      ]
    },
    {
      "cell_type": "code",
      "source": [
        "# Задание task_02_06.\n",
        "\n",
        "a = float(input())\n",
        "b = float(input())\n",
        "c = float(input())\n",
        "\n",
        "# Расчет дискриминанта\n",
        "d= b**2-4*a*c\n",
        "if d>0:\n",
        "  x1 = ((-b)+d**0.5)/(2*a)\n",
        "  x2 = ((-b)-d**0.5)/(2*a)\n",
        "  print(\"x1=\",x1, \"x2=\", x2)\n",
        "\n",
        "elif d==0:\n",
        "  x = ((-b))/(2*a)\n",
        "  print(x)\n",
        "elif d<0:\n",
        "  print(\"Решений нет\")\n",
        "\n",
        "\n",
        "\n",
        "\n",
        "# Вывод решения в зависимости от значения дискриминанта\n",
        "# При выводе значений оставьте 1 знак после запятой\n",
        "# Удалите комментарий и допишите код\n",
        "\n",
        "# --------------\n",
        "# Пример вывода:\n",
        "#\n",
        "# a = 1\n",
        "# b = 2\n",
        "# c = 3\n",
        "# Решений нет\n",
        "#\n",
        "# a = 1\n",
        "# b = 2\n",
        "# c = 1\n",
        "# x = -1.0\n",
        "#\n",
        "# a = 1\n",
        "# b = 3\n",
        "# c = -4\n",
        "# x1 = -4.0, x2 = 1.0"
      ],
      "metadata": {
        "colab": {
          "base_uri": "https://localhost:8080/"
        },
        "id": "qNH2OR9A3hGd",
        "outputId": "45e06f74-447d-4c6a-d422-9b97e1678171"
      },
      "execution_count": null,
      "outputs": [
        {
          "output_type": "stream",
          "name": "stdout",
          "text": [
            "1\n",
            "2\n",
            "3\n",
            "Решений нет\n",
            "1\n",
            "2\n",
            "1\n",
            "-1.0\n",
            "1\n",
            "3\n",
            "-4\n",
            "x1= 1.0 x2= -4.0\n"
          ]
        }
      ]
    },
    {
      "cell_type": "code",
      "source": [
        "# Задание task_02_07.\n",
        "\n",
        "nums_sum = 0  # сумма\n",
        "nums_count = 0  # количество\n",
        "\n",
        "x = int(input(\"Введите 1-е число = \"))\n",
        "while x != 0:\n",
        "  nums_sum += x\n",
        "  nums_count += 1\n",
        "  x = int(input(\"Введите число =\"))\n",
        "print(\"Сумма =\",nums_sum)\n",
        "print(\"Количество =\", nums_count)\n",
        "\n",
        "\n",
        "\n",
        "\n",
        "# Удалите комментарий и допишите код\n",
        "\n",
        "# --------------\n",
        "# Пример вывода:\n",
        "#\n",
        "# Введите 1-е число: 1\n",
        "# Введите 2-е число: 2\n",
        "# Введите 3-е число: 3\n",
        "# Введите 4-е число: 4\n",
        "# Введите 5-е число: 0\n",
        "# Сумма = 10\n",
        "# Количество = 4\n",
        "#\n",
        "# Введите 1-е число: 0\n",
        "# Сумма = 0\n",
        "# Количество = 0"
      ],
      "metadata": {
        "colab": {
          "base_uri": "https://localhost:8080/"
        },
        "id": "xvaXbR6LMfWQ",
        "outputId": "ab8f99db-0a3a-469b-ae45-b2d8b3c29b15"
      },
      "execution_count": null,
      "outputs": [
        {
          "output_type": "stream",
          "name": "stdout",
          "text": [
            "Введите 1-е число = 1\n",
            "Введите число =2\n",
            "Введите число =3\n",
            "Введите число =4\n",
            "Введите число =0\n",
            "Сумма = 10\n",
            "Количество = 4\n"
          ]
        }
      ]
    },
    {
      "cell_type": "code",
      "source": [
        "# Задание task_02_08.\n",
        "\n",
        "n = int(input(\"Введите n = \"))\n",
        "i = 0\n",
        "for i in range(0, n+1, 5):\n",
        "  print(i)\n",
        "\n",
        "\n",
        "# --------------\n",
        "# Пример вывода:\n",
        "#\n",
        "# n = 0\n",
        "# 0\n",
        "#\n",
        "# n = 10\n",
        "# 0\n",
        "# 5\n",
        "# 10\n",
        "#\n",
        "# n = 12\n",
        "# 0\n",
        "# 5\n",
        "# 10"
      ],
      "metadata": {
        "colab": {
          "base_uri": "https://localhost:8080/"
        },
        "id": "uBeBPqAhMfOU",
        "outputId": "38592019-85fb-41b3-ce6a-a7d873cc1a3b"
      },
      "execution_count": null,
      "outputs": [
        {
          "output_type": "stream",
          "name": "stdout",
          "text": [
            "Введите n = 10\n",
            "0\n",
            "5\n",
            "10\n"
          ]
        }
      ]
    },
    {
      "cell_type": "code",
      "source": [
        "# Задание task_02_09.\n",
        "\n",
        "a = float(input(\"a = \"))\n",
        "\n",
        "n = 1\n",
        "x_sum = 0\n",
        "while x_sum <= a:\n",
        "  x_sum += 1/n\n",
        "  n += 1\n",
        "print(\"n =\", n-1)\n",
        "\n",
        "# --------------\n",
        "# Пример вывода:\n",
        "#\n",
        "# a = 1.5\n",
        "# n = 3\n",
        "#\n",
        "# a = 2\n",
        "# n = 4"
      ],
      "metadata": {
        "colab": {
          "base_uri": "https://localhost:8080/"
        },
        "id": "1F1Y4bgEMfFk",
        "outputId": "45cf5e74-0d27-45d0-c023-0c46444fd1fe"
      },
      "execution_count": null,
      "outputs": [
        {
          "output_type": "stream",
          "name": "stdout",
          "text": [
            "a = 2\n",
            " n = 4\n"
          ]
        }
      ]
    },
    {
      "cell_type": "code",
      "source": [
        "# Задание task_02_10.\n",
        "\n",
        "n = int(input(\"Введите натуральное число\"))\n",
        "\n",
        "n_sum = 0\n",
        "n_count = 0\n",
        "\n",
        "while n > 0:\n",
        "  digit = n % 10\n",
        "  n_sum += digit\n",
        "  n_count += 1\n",
        "  n //= 10\n",
        "\n",
        "print(f\"Сумма цифр: {n_sum}\")\n",
        "print(f\"Количество цифр: {n_count}\")\n",
        "\n",
        "# --------------\n",
        "# Пример вывода:\n",
        "#\n",
        "# n = 12345\n",
        "# Сумма = 15\n",
        "# Количество = 5"
      ],
      "metadata": {
        "id": "TjyofaODMe9F",
        "colab": {
          "base_uri": "https://localhost:8080/"
        },
        "outputId": "856f255a-a1c0-4011-f36f-074b36f2db87"
      },
      "execution_count": null,
      "outputs": [
        {
          "output_type": "stream",
          "name": "stdout",
          "text": [
            "Введите натуральное число12345\n",
            "Сумма цифр: 15\n",
            "Количество цифр: 5\n"
          ]
        }
      ]
    },
    {
      "cell_type": "code",
      "source": [
        "\n",
        "# Задание task_02_11.\n",
        "\n",
        "\n",
        "start = int(input(\"start = \"))\n",
        "k = int(input(\"k = \"))\n",
        "s = int(input(\"s = \"))\n",
        "n_count =0\n",
        "result = []\n",
        "i= start\n",
        "\n",
        "while n_count < 10:\n",
        "  if i % s == 0 and i % 10 == k:\n",
        "    result.append(i)\n",
        "    n_count += 1\n",
        "  i += 1\n",
        "print(result)\n",
        "# --------------\n",
        "# Пример вывода:\n",
        "#\n",
        "# start = 100\n",
        "# k = 7\n",
        "# s = 9\n",
        "# 117 207 297 387 477 567 657 747 837 927"
      ],
      "metadata": {
        "colab": {
          "base_uri": "https://localhost:8080/"
        },
        "id": "VN_PuwxI0xyV",
        "outputId": "2fd5f567-fd90-4458-ecf0-c86a2e78b5e8"
      },
      "execution_count": null,
      "outputs": [
        {
          "output_type": "stream",
          "name": "stdout",
          "text": [
            "start = 100\n",
            "k = 7\n",
            "s = 9\n",
            "[117, 207, 297, 387, 477, 567, 657, 747, 837, 927]\n"
          ]
        }
      ]
    },
    {
      "cell_type": "code",
      "source": [
        "# Задание task_02_12.\n",
        "\n",
        "a = int(input(\"a = \"))\n",
        "b = int(input(\"b = \"))\n",
        "min_val = min(a, b)\n",
        "max_val = max(a, b)\n",
        "print(*range(min_val, max_val +1))\n",
        "for c in range(max_val, min_val - 1, -1 ):\n",
        "  print(c)\n",
        "# --------------\n",
        "# Пример вывода:\n",
        "#\n",
        "# a = 1\n",
        "# b = 5\n",
        "# 1 2 3 4 5\n",
        "# 5\n",
        "# 4\n",
        "# 3\n",
        "# 2\n",
        "# 1"
      ],
      "metadata": {
        "colab": {
          "base_uri": "https://localhost:8080/"
        },
        "id": "5hPG8jlB0xtD",
        "outputId": "dee9722f-389c-488d-d7dc-f284938c9bb3"
      },
      "execution_count": null,
      "outputs": [
        {
          "output_type": "stream",
          "name": "stdout",
          "text": [
            "a = 1\n",
            "b = 5\n",
            "1 2 3 4 5\n",
            "5\n",
            "4\n",
            "3\n",
            "2\n",
            "1\n"
          ]
        }
      ]
    },
    {
      "cell_type": "code",
      "source": [
        "\n",
        "# Задание task_02_13.\n",
        "\n",
        "a = int(input(\"a = \"))\n",
        "b = int(input(\"b = \"))\n",
        "if a <= 0 or b <= 0 or a > b:\n",
        "    print(\"Некорректный ввод\")\n",
        "else:\n",
        "  n_sum = sum(range(a,b + 1))\n",
        "  n_mult = 1\n",
        "  for i in range (a, b + 1):\n",
        "    n_mult *= i\n",
        "  n_avg = n_sum / (b - a + 1)\n",
        "\n",
        "print(\"Сумма =\", n_sum)\n",
        "print(\"Произведение =\", n_mult)\n",
        "print(\"Среднее арифметическое = {!!!}\".format(n_avg))\n",
        "print(\"Среднее геометрическое нечетных чисел = {!!!}\".format(n_avg_geom))\n",
        "\n",
        "# --------------\n",
        "# Пример вывода:\n",
        "#\n",
        "# a = 1\n",
        "# b = 5\n",
        "# Сумма = 15\n",
        "# Произведение = 120\n",
        "# Среднее арифметическое = 3.00\n",
        "# Среднее геометрическое нечетных чисел = 2.47"
      ],
      "metadata": {
        "id": "_LFA01hF0xl_"
      },
      "execution_count": null,
      "outputs": []
    },
    {
      "cell_type": "code",
      "source": [
        "s = float(input(\"Пробег за 1-й день (км.) =\"))\n",
        "p = float(input(\"На сколько увеличивает пробег (%) =\"))\n",
        "\n",
        "total = s\n",
        "distance = s\n",
        "\n",
        "\n",
        "\n",
        "for i in range(2,11):\n",
        "  distance *= (1+p/100)\n",
        "  total += distance\n",
        "  print (f\"Пробег за {i} день: {distance:.1f} км\")\n",
        "print(\"Суммарный пробег: {:.1f} км.\".format(total))\n",
        "\n",
        "# --------------\n",
        "# Пример вывода:\n",
        "#\n",
        "# Пробег за 1-й день (км.) = 5\n",
        "# На сколько увеличивает пробег (%) = 10\n",
        "# Пробег за 2-й день: 5.5 км.\n",
        "# Пробег за 3-й день: 6.1 км.\n",
        "# Пробег за 4-й день: 6.7 км.\n",
        "# Пробег за 5-й день: 7.3 км.\n",
        "# Пробег за 6-й день: 8.1 км.\n",
        "# Пробег за 7-й день: 8.9 км.\n",
        "# Пробег за 8-й день: 9.7 км.\n",
        "# Пробег за 9-й день: 10.7 км.\n",
        "# Пробег за 10-й день: 11.8 км.\n",
        "# Суммарный пробег: 79.7 км."
      ],
      "metadata": {
        "id": "9dTOIWyL0xa2",
        "colab": {
          "base_uri": "https://localhost:8080/"
        },
        "outputId": "294cc20d-e54c-4379-f0c8-1d80fe204372"
      },
      "execution_count": null,
      "outputs": [
        {
          "output_type": "stream",
          "name": "stdout",
          "text": [
            "Пробег за 1-й день (км.) =5\n",
            "На сколько увеличивает пробег (%) =10\n",
            "Пробег за 2 день: 5.5 км\n",
            "Пробег за 3 день: 6.1 км\n",
            "Пробег за 4 день: 6.7 км\n",
            "Пробег за 5 день: 7.3 км\n",
            "Пробег за 6 день: 8.1 км\n",
            "Пробег за 7 день: 8.9 км\n",
            "Пробег за 8 день: 9.7 км\n",
            "Пробег за 9 день: 10.7 км\n",
            "Пробег за 10 день: 11.8 км\n",
            "Суммарный пробег: 79.7 км.\n"
          ]
        }
      ]
    },
    {
      "cell_type": "code",
      "source": [
        "# Задание task_02_15.\n",
        "\n",
        "\n",
        "p = int(input(\"Грузоподъемность грузовика (кг.) = \"))\n",
        "n = int(input(\"Количество предметов = \"))\n",
        "\n",
        "total = 0\n",
        "for i in range (1, 1+n):\n",
        "  m = float(input(f\"Масса {i}-го предмета (кг.) = \"))\n",
        "  total += m\n",
        "if total <= p:\n",
        "  print(\"Да\")\n",
        "else:\n",
        "  print(\"Нет\")\n",
        "# --------------\n",
        "# Пример вывода:\n",
        "#\n",
        "# Грузоподъемность грузовика (кг.) = 10\n",
        "# Количество предметов = 2\n",
        "# Масса 1-го предмета (кг.) = 3\n",
        "# Масса 2-го предмета (кг.) = 3\n",
        "# Да"
      ],
      "metadata": {
        "colab": {
          "base_uri": "https://localhost:8080/"
        },
        "id": "0px8uUjHem9m",
        "outputId": "74a3a16a-bfc6-462e-d240-0032f83f5f56"
      },
      "execution_count": null,
      "outputs": [
        {
          "output_type": "stream",
          "name": "stdout",
          "text": [
            "Грузоподъемность грузовика (кг.) = 10\n",
            "Количество предметов = 2\n",
            "Масса 1-го предмета (кг.) = 3\n",
            "Масса 2-го предмета (кг.) = 3\n",
            "Да\n"
          ]
        }
      ]
    },
    {
      "cell_type": "code",
      "source": [
        "# Задание task_02_16.\n",
        "\n",
        "n = int(input(\"Количество районов = \"))\n",
        "\n",
        "total = 0\n",
        "for i in range(1, 1+n):\n",
        "  area = float(input(f\"Площадь {i}-го района (га) = \"))\n",
        "  y = float(input(f\"Урожайность в {i}-м районе (ц/га.) = \"))\n",
        "  total += area * y\n",
        "print(f\"Собрано пшеницы: {total:.1f} ц.\")\n",
        "# --------------\n",
        "# Пример вывода:\n",
        "#\n",
        "# Количество районов = 3\n",
        "# Площадь 1-го района (га) = 4\n",
        "# Урожайность в 1-м районе (ц/га.) = 2\n",
        "# Площадь 2-го района (га) = 7\n",
        "# Урожайность в 2-м районе (ц/га.) = 3\n",
        "# Площадь 3-го района (га) = 9\n",
        "# Урожайность в 3-м районе (ц/га.) = 4\n",
        "# Собрано пшеницы: 65.0 ц."
      ],
      "metadata": {
        "colab": {
          "base_uri": "https://localhost:8080/"
        },
        "id": "B49X1Mpyem0O",
        "outputId": "2c1035c2-c6b3-4fae-ec5f-abbf25e5c18c"
      },
      "execution_count": null,
      "outputs": [
        {
          "output_type": "stream",
          "name": "stdout",
          "text": [
            "Количество районов = 3\n",
            "Площадь 1-го района (га) = 4\n",
            "Урожайность в 1-м районе (ц/га.) = 2\n",
            "Площадь 2-го района (га) = 7\n",
            "Урожайность в 2-м районе (ц/га.) = 3\n",
            "Площадь 3-го района (га) = 9\n",
            "Урожайность в 3-м районе (ц/га.) = 4\n",
            "Собрано пшеницы: 65.0 ц.\n"
          ]
        }
      ]
    },
    {
      "cell_type": "code",
      "source": [
        "# Задание task_02_17.\n",
        "\n",
        "nums_sum = 0  # сумма\n",
        "nums_count = 0  # количество\n",
        "i =1\n",
        "while True:\n",
        "  try:\n",
        "    number = int(input(\"Введите {i}-e число : \"))\n",
        "    if number ==0:\n",
        "      break\n",
        "    nums_sum  += number\n",
        "    nums_count += 1\n",
        "    i = i+1\n",
        "  except ValueError:\n",
        "    print(\"Некорректный ввод.\")\n",
        "print(f\"Сумма = {nums_sum}\")\n",
        "print(f\"Количество = {nums_count}\")\n",
        "# --------------\n",
        "# Пример вывода:\n",
        "#\n",
        "# Введите 1-е число: 1\n",
        "# Введите 2-е число: 2\n",
        "# Введите 3-е число: 3\n",
        "# Введите 4-е число: 4\n",
        "# Введите 5-е число: 0\n",
        "# Сумма = 10\n",
        "# Количество = 4\n",
        "#\n",
        "# Введите 1-е число: 0\n",
        "# Сумма = 0\n",
        "# Количество = 0"
      ],
      "metadata": {
        "colab": {
          "base_uri": "https://localhost:8080/"
        },
        "id": "FIJhu4pbemp0",
        "outputId": "ad529d8e-f859-4b6c-a8e9-02944a6f6e33"
      },
      "execution_count": null,
      "outputs": [
        {
          "output_type": "stream",
          "name": "stdout",
          "text": [
            "Введите {i}-e число : 1\n",
            "Введите {i}-e число : 2\n",
            "Введите {i}-e число : 3\n",
            "Введите {i}-e число : 4\n",
            "Введите {i}-e число : 0\n",
            "Сумма = 10\n",
            "Количество = 4\n"
          ]
        }
      ]
    },
    {
      "cell_type": "code",
      "source": [
        "\n",
        "# Задание task_02_18.\n",
        "\n",
        "sentence = input(\"Введите предложение:\")\n",
        "\n",
        "count_gl = 0  # Кол-во гласных\n",
        "count_sogl = 0  # Кол-во согласных\n",
        "gl = \"аеёиоуыэюяАЕЁИОУЭЮЯ\"\n",
        "for char in sentence:\n",
        "  if char.isspace():\n",
        "    continue\n",
        "  elif char in gl:\n",
        "   count_gl += 1\n",
        "  else:\n",
        "    count_sogl +=1\n",
        "print(f\"Кол-во букв в предложении: гласных - {count_gl}, согласных - {count_sogl} \")\n",
        "\n",
        "# --------------\n",
        "# Пример вывода:\n",
        "#\n",
        "# Введите предложение: Программирование\n",
        "# Кол-во букв в предложении: гласных - 7, согласных - 9"
      ],
      "metadata": {
        "colab": {
          "base_uri": "https://localhost:8080/"
        },
        "id": "8Odsf6Gul2Cf",
        "outputId": "0d7e979e-cdc4-4a1c-c116-ec08b800916d"
      },
      "execution_count": null,
      "outputs": [
        {
          "output_type": "stream",
          "name": "stdout",
          "text": [
            "Введите предложение:Программирование\n",
            "Кол-во букв в предложении: гласных - 7, согласных - 9 \n"
          ]
        }
      ]
    },
    {
      "cell_type": "code",
      "source": [
        "# Задание task_02_19.\n",
        "\n",
        "a = int(input(\"a =\"))\n",
        "b = int(input(\"b =\"))\n",
        "c = int(input(\"c =\"))\n",
        "result=[]\n",
        "for i in range(a,b +1):\n",
        "  if i % c ==0:\n",
        "    result.append(i)\n",
        "print(*result)\n",
        "\n",
        "# --------------\n",
        "# Пример вывода:\n",
        "#\n",
        "# a = 1\n",
        "# b = 10\n",
        "# c = 2\n",
        "# 2 4 6 8 10"
      ],
      "metadata": {
        "colab": {
          "base_uri": "https://localhost:8080/"
        },
        "id": "MqKjG1BDl1_-",
        "outputId": "ded9b584-e4d2-4964-edb0-3ef901e3a1c7"
      },
      "execution_count": null,
      "outputs": [
        {
          "output_type": "stream",
          "name": "stdout",
          "text": [
            "a =1\n",
            "b =10\n",
            "c =2\n",
            "2 4 6 8 10\n"
          ]
        }
      ]
    },
    {
      "cell_type": "code",
      "source": [
        "\n",
        "# Задание task_02_20.\n",
        "\n",
        "n = int(input(\"n = \"))\n",
        "if not 0<n<=27:\n",
        "  print(\"Некорректное значение\")\n",
        "else:\n",
        "  result = []\n",
        "  for i in range(100,1000):\n",
        "    s = sum(int(digit) for digit in str(i))\n",
        "    if s==n:\n",
        "      result.append(i)\n",
        "\n",
        "print(*result)\n",
        "# --------------\n",
        "# Пример вывода:\n",
        "#\n",
        "# n = 3\n",
        "# 102 111 120 201 210 300"
      ],
      "metadata": {
        "colab": {
          "base_uri": "https://localhost:8080/"
        },
        "id": "mGBq2XkNl195",
        "outputId": "4201d9ec-f631-420a-ce02-3b87b2500dbf"
      },
      "execution_count": null,
      "outputs": [
        {
          "output_type": "stream",
          "name": "stdout",
          "text": [
            "n = 3\n",
            "102 111 120 201 210 300\n"
          ]
        }
      ]
    },
    {
      "cell_type": "code",
      "source": [
        "\n",
        "# Задание task_02_21.\n",
        "\n",
        "n = int(input(\"n = \"))\n",
        "boys_sum = 0\n",
        "boys_count = 0\n",
        "girls_sum = 0\n",
        "girls_count = 0\n",
        "\n",
        "for i in range(1, 1+n):\n",
        "  r = int(input(f\"Рост {i}-го ученика = \"))\n",
        "  if r<0:\n",
        "    boys_sum += abs(r)\n",
        "    boys_count += 1\n",
        "  else:\n",
        "    girls_sum += abs(r)\n",
        "    girls_count += 1\n",
        "\n",
        "if boys_count >0:\n",
        "  r_sr_m = boys_sum/boys_count\n",
        "else:\n",
        "  r_sr_m = 0.0\n",
        "if girls_count >0:\n",
        "  r_sr_d =girls_sum/girls_count\n",
        "else:\n",
        "  r_sr_d = 0.0\n",
        "\n",
        "\n",
        "\n",
        "\n",
        "print(\"Средний рост мальчиков: {:.1f}\".format(r_sr_m))\n",
        "print(\"Средний рост девочек: {:.1f}\".format(r_sr_d))\n",
        "\n",
        "# --------------\n",
        "# Пример вывода:\n",
        "#\n",
        "# n = 5\n",
        "# Рост 1-го ученика = 150\n",
        "# Рост 2-го ученика = -150\n",
        "# Рост 3-го ученика = 160\n",
        "# Рост 4-го ученика = 170\n",
        "# Рост 5-го ученика = 180\n",
        "# Средний рост мальчиков: 150.0\n",
        "# Средний рост девочек: 165.0"
      ],
      "metadata": {
        "colab": {
          "base_uri": "https://localhost:8080/"
        },
        "id": "xn_FPOoml17K",
        "outputId": "7b948848-e598-4ffc-b4ec-7ebece5e0941"
      },
      "execution_count": null,
      "outputs": [
        {
          "output_type": "stream",
          "name": "stdout",
          "text": [
            "n = 5\n",
            "Рост 1-го ученика = 150\n",
            "Рост 2-го ученика = -150\n",
            "Рост 3-го ученика = 160\n",
            "Рост 4-го ученика = 170\n",
            "Рост 5-го ученика = 180\n",
            "Средний рост мальчиков: 150.0\n",
            "Средний рост девочек: 165.0\n"
          ]
        }
      ]
    },
    {
      "cell_type": "code",
      "source": [
        "# Задание task_02_22.\n",
        "\n",
        "n = float(input(\"n = \"))\n",
        "a_max = None\n",
        "a_min = None\n",
        "\n",
        "if n<=0:\n",
        "  print(\"Некорректный ввод\")\n",
        "else:\n",
        "  n=int(n)\n",
        "  for i in range(1, n+1):\n",
        "    while True:\n",
        "      try:\n",
        "        num= float(input(f\"{i}-е число = \"))\n",
        "        if a_max is None or num>a_max:\n",
        "          a_max = num\n",
        "        if a_min is None or num< a_min:\n",
        "          a_min = num\n",
        "        break\n",
        "      except ValueError:\n",
        "        print(\"Некорректный ввод\")\n",
        "\n",
        "print(\"Максимум: {:.2f}\".format(a_max))\n",
        "print(\"Минимум: {:.2f}\".format(a_min))\n",
        "\n",
        "# --------------\n",
        "# Пример вывода:\n",
        "#\n",
        "# n = 4\n",
        "# 1-е число = 6.2\n",
        "# 2-е число = 3.8\n",
        "# 3-е число = 1.1\n",
        "# 4-е число = 9.66\n",
        "#  9.66\n",
        "# Минимум: 1.10"
      ],
      "metadata": {
        "colab": {
          "base_uri": "https://localhost:8080/"
        },
        "id": "QjiBecxzl14g",
        "outputId": "fb1e8135-30ce-476b-85ce-5782aa47e424"
      },
      "execution_count": null,
      "outputs": [
        {
          "output_type": "stream",
          "name": "stdout",
          "text": [
            "n = 4\n",
            "1-е число6.2\n",
            "2-е число3.8\n",
            "3-е число1.1\n",
            "4-е число9.66\n",
            "Максимум: 9.66\n",
            "Минимум: 1.10\n"
          ]
        }
      ]
    },
    {
      "cell_type": "code",
      "source": [
        "\n",
        "# Задание task_02_23.\n",
        "#\n",
        "# Выполнил: Фамилия И.О.\n",
        "# Группа: !!!\n",
        "\n",
        "\n",
        "\n",
        "n = int(input(\"n = \"))\n",
        "a,b = 0,1\n",
        "is_fibonacci = False\n",
        "\n",
        "while b<n:\n",
        "  a,b = b, a+b\n",
        "if b==n:\n",
        "  is_fibonacci = True\n",
        "\n",
        "\n",
        "print(\"Является\" if is_fibonacci else \"Не является\")\n",
        "\n",
        "# --------------\n",
        "# Пример вывода:\n",
        "#\n",
        "# n = 7\n",
        "# Не является\n",
        "#\n",
        "# n = 8\n",
        "# Является"
      ],
      "metadata": {
        "id": "Q-22lMxCl12H"
      },
      "execution_count": null,
      "outputs": []
    },
    {
      "cell_type": "code",
      "source": [
        "# Задание task_02_24.\n",
        "\n",
        "n = int(input(\"n = \"))\n",
        "\n",
        "# -1 означает, что последовательность упорядочена по возрастанию\n",
        "# Если это не так, 'index' меняется в цикле на индекс элемента,\n",
        "# нарушающего порядок\n",
        "index = -1\n",
        "\n",
        "if n<=1:\n",
        "  print(\"является\")\n",
        "else:\n",
        "  prev = float(input(\"1-е число = \"))\n",
        "  for i in range (2,1+n):\n",
        "    curr = float(input(f\"{i}-е число = \"))\n",
        "    if curr<prev:\n",
        "      index = i\n",
        "      break\n",
        "    prev =curr\n",
        "  if index ==-1:\n",
        "    print(\"Является\")\n",
        "  else:\n",
        "    print(index)\n",
        "# --------------\n",
        "# Пример вывода:\n",
        "#\n",
        "# n = 4\n",
        "# 1-е число = 2\n",
        "# 2-е число = 4.6\n",
        "# 3-е число = 6\n",
        "# 4-е число = 8.3\n",
        "# Является\n",
        "#\n",
        "# n = 3\n",
        "# 1-е число = 3\n",
        "# 2-е число = 3\n",
        "# 2"
      ],
      "metadata": {
        "colab": {
          "base_uri": "https://localhost:8080/"
        },
        "id": "Y6MY88Kol1zu",
        "outputId": "991743bc-eee1-4c11-bfc8-745e74f0c93d"
      },
      "execution_count": null,
      "outputs": [
        {
          "output_type": "stream",
          "name": "stdout",
          "text": [
            "n = 4\n",
            "1-е число = 2\n",
            "2-е число = 4.6\n",
            "3-е число = 6\n",
            "4-е число = 8.3\n",
            "Является\n"
          ]
        }
      ]
    },
    {
      "cell_type": "code",
      "source": [
        "\n",
        "# Задание task_02_25.\n",
        "#\n",
        "# Выполнил: Фамилия И.О.\n",
        "# Группа: !!!\n",
        "\n",
        "\n",
        "\n",
        "n = int(input(\"n = \"))\n",
        "if not 2 < n <= 9:\n",
        "  print(\"некорректный ввод\")\n",
        "else:\n",
        "  for i in range(1,1 + n):\n",
        "    row = \" \"\n",
        "    for j in range(1, 1 + n):\n",
        "      result = i * j\n",
        "      row += f\"{i} * {j} = {result:2}  \"\n",
        "    print(row)\n",
        "\n",
        "\n",
        "\n",
        "# --------------\n",
        "# Пример вывода:\n",
        "#\n",
        "# n = 5\n",
        "# 1 * 1 =  1  1 * 2 =  2  1 * 3 =  3  1 * 4 =  4  1 * 5 =  5\n",
        "# 2 * 1 =  2  2 * 2 =  4  2 * 3 =  6  2 * 4 =  8  2 * 5 = 10\n",
        "# 3 * 1 =  3  3 * 2 =  6  3 * 3 =  9  3 * 4 = 12  3 * 5 = 15\n",
        "# 4 * 1 =  4  4 * 2 =  8  4 * 3 = 12  4 * 4 = 16  4 * 5 = 20\n",
        "# 5 * 1 =  5  5 * 2 = 10  5 * 3 = 15  5 * 4 = 20  5 * 5 = 25"
      ],
      "metadata": {
        "colab": {
          "base_uri": "https://localhost:8080/"
        },
        "id": "_Peguyl6uGH5",
        "outputId": "4e0b983a-e7dc-45d2-a2a6-7efaf7b1f634"
      },
      "execution_count": null,
      "outputs": [
        {
          "output_type": "stream",
          "name": "stdout",
          "text": [
            "n = 5\n",
            " 1 * 1 =  1  1 * 2 =  2  1 * 3 =  3  1 * 4 =  4  1 * 5 =  5  \n",
            " 2 * 1 =  2  2 * 2 =  4  2 * 3 =  6  2 * 4 =  8  2 * 5 = 10  \n",
            " 3 * 1 =  3  3 * 2 =  6  3 * 3 =  9  3 * 4 = 12  3 * 5 = 15  \n",
            " 4 * 1 =  4  4 * 2 =  8  4 * 3 = 12  4 * 4 = 16  4 * 5 = 20  \n",
            " 5 * 1 =  5  5 * 2 = 10  5 * 3 = 15  5 * 4 = 20  5 * 5 = 25  \n"
          ]
        }
      ]
    },
    {
      "cell_type": "code",
      "source": [
        "# Задание task_02_26.\n",
        "\n",
        "n = int(input(\"n =  \"))\n",
        "\n",
        "for i in range(1, n + 1):\n",
        "  count = 0\n",
        "  for j in range(1, i + 1):\n",
        "    if i % j == 0:\n",
        "      count += 1\n",
        "  print(f\"{i}{'*' * count}\")\n",
        "\n",
        "# --------------\n",
        "# Пример вывода:\n",
        "#\n",
        "# n = 10\n",
        "# 1 *\n",
        "# 2 **\n",
        "# 3 **\n",
        "# 4 ***\n",
        "# 5 **\n",
        "# 6 ****\n",
        "# 7 **\n",
        "# 8 ****\n",
        "# 9 ***\n",
        "# 10 ****"
      ],
      "metadata": {
        "colab": {
          "base_uri": "https://localhost:8080/"
        },
        "id": "Cjf1IHYDuGEe",
        "outputId": "f7361db2-57e7-45cb-d335-773e1d7e48c3"
      },
      "execution_count": null,
      "outputs": [
        {
          "output_type": "stream",
          "name": "stdout",
          "text": [
            "Введите значение n: 10\n",
            "1*\n",
            "2**\n",
            "3**\n",
            "4***\n",
            "5**\n",
            "6****\n",
            "7**\n",
            "8****\n",
            "9***\n",
            "10****\n"
          ]
        }
      ]
    },
    {
      "cell_type": "code",
      "source": [
        "\n",
        "# Задание task_02_27\n",
        "\n",
        "n =int(input(\"n =  \"))\n",
        "count = 0\n",
        "number  =2\n",
        "while count <n:\n",
        "  is_prime = True\n",
        "  for i in range(2, int(number**0.5)+1):\n",
        "    if number %i == 0:\n",
        "      is_prime = False\n",
        "      break\n",
        "  if is_prime:\n",
        "    print(number, end= \" \")\n",
        "    count +=1\n",
        "  number += 1\n",
        "\n",
        "# Удалите комментарий и допишите код\n",
        "\n",
        "# --------------\n",
        "# Пример вывода:\n",
        "#\n",
        "# n = 10\n",
        "# 2 3 5 7 11 13 17 19 23 29"
      ],
      "metadata": {
        "colab": {
          "base_uri": "https://localhost:8080/"
        },
        "id": "WeIhSlPRuGCL",
        "outputId": "5e555059-3dc1-446a-fe2d-2a5c80411435"
      },
      "execution_count": null,
      "outputs": [
        {
          "output_type": "stream",
          "name": "stdout",
          "text": [
            "n =  10\n",
            "2 3 5 7 11 13 17 19 23 29 "
          ]
        }
      ]
    },
    {
      "cell_type": "code",
      "source": [
        "# Задание task_02_28.\n",
        "#\n",
        "# Выполнил: Фамилия И.О.\n",
        "# Группа: !!!\n",
        "\n",
        "\n",
        "\n",
        "k = int(input(\"k =  \"))\n",
        "\n",
        "for x in range(1,31):\n",
        "  for y in range(1,31):\n",
        "    for z in range(1,31):\n",
        "      if x**2 + y**2 + z**2 == k**2:\n",
        "        print(f\" x = {x}, y = {y}, z = {z}\")\n",
        "\n",
        "# --------------\n",
        "# Пример вывода:\n",
        "#\n",
        "# k = 30\n",
        "# x =  4, y = 10, z = 28\n",
        "# x =  4, y = 20, z = 22\n",
        "# x =  4, y = 22, z = 20\n",
        "# x =  4, y = 28, z = 10\n",
        "# x = 10, y =  4, z = 28\n",
        "# x = 10, y = 20, z = 20\n",
        "# x = 10, y = 28, z =  4\n",
        "# x = 20, y =  4, z = 22\n",
        "# x = 20, y = 10, z = 20\n",
        "# x = 20, y = 20, z = 10\n",
        "# x = 20, y = 22, z =  4\n",
        "# x = 22, y =  4, z = 20\n",
        "# x = 22, y = 20, z =  4\n",
        "# x = 28, y =  4, z = 10\n",
        "# x = 28, y = 10, z =  4"
      ],
      "metadata": {
        "colab": {
          "base_uri": "https://localhost:8080/"
        },
        "id": "0kFKFIt3uGAA",
        "outputId": "0a7e895e-8a25-497f-d493-28cdf1ca03bb"
      },
      "execution_count": null,
      "outputs": [
        {
          "output_type": "stream",
          "name": "stdout",
          "text": [
            "k =  30\n",
            " x = 4, y = 10, z = 28\n",
            " x = 4, y = 20, z = 22\n",
            " x = 4, y = 22, z = 20\n",
            " x = 4, y = 28, z = 10\n",
            " x = 10, y = 4, z = 28\n",
            " x = 10, y = 20, z = 20\n",
            " x = 10, y = 28, z = 4\n",
            " x = 20, y = 4, z = 22\n",
            " x = 20, y = 10, z = 20\n",
            " x = 20, y = 20, z = 10\n",
            " x = 20, y = 22, z = 4\n",
            " x = 22, y = 4, z = 20\n",
            " x = 22, y = 20, z = 4\n",
            " x = 28, y = 4, z = 10\n",
            " x = 28, y = 10, z = 4\n"
          ]
        }
      ]
    },
    {
      "cell_type": "code",
      "source": [
        "# Задание task_02_29.\n",
        "#\n",
        "# Выполнил: Фамилия И.О.\n",
        "# Группа: !!!\n",
        "\n",
        "\n",
        "\n",
        "n = int(input(\"n = \"))\n",
        "\n",
        "nums = [float(input(f\"Введите {i+1}-й элемент списка:\")) for i in range(n)]\n",
        "\n",
        "nums_pos =[num for num in nums if num>0]\n",
        "\n",
        "nums_neg = []\n",
        "for num in nums:\n",
        "  if num <0:\n",
        "    nums_neg.append(num)\n",
        "\n",
        "sr_ar = sum(nums_pos)/ len(nums_pos) if len(nums_pos) > 0 else 0\n",
        "if len(nums_neg)>0:\n",
        "  prod = 1\n",
        "  for num in nums_neg:\n",
        "    prod *= abs(num)\n",
        "    sr_geom =  prod**(1/ len(nums_neg))\n",
        "else:\n",
        "  sr_geom=0\n",
        "\n",
        "print(\"Исходный список:\", nums)\n",
        "print(\"Положительные числа:\", nums_pos)\n",
        "print(\"Отрицательные числа:\", nums_neg)\n",
        "print(f\"Ср. арифм.: {sr_ar:.2f}\")\n",
        "print(f\"Ср. геом.: {sr_geom:.2f}\")\n",
        "\n",
        "# --------------\n",
        "# Пример вывода:\n",
        "#\n",
        "# n = 4\n",
        "# Введите 1-й элемент списка: 1\n",
        "# Введите 2-й элемент списка: 6\n",
        "# Введите 3-й элемент списка: -10\n",
        "# Введите 4-й элемент списка: -3\n",
        "# Исходный список: [1.0, 6.0, -10.0, -3.0]\n",
        "# Положительные числа: [1.0, 6.0]\n",
        "# Отрицательные числа: [-10.0, -3.0]\n",
        "# Ср. арифм.: 3.50\n",
        "# Ср. геом.: 5.48"
      ],
      "metadata": {
        "colab": {
          "base_uri": "https://localhost:8080/"
        },
        "id": "-a0-eIBSuF9f",
        "outputId": "4a6d70a3-1326-4e96-8f50-f82c03790a21"
      },
      "execution_count": null,
      "outputs": [
        {
          "output_type": "stream",
          "name": "stdout",
          "text": [
            "n = 4\n",
            "Введите 1-й элемент списка:1\n",
            "Введите 2-й элемент списка:6\n",
            "Введите 3-й элемент списка:-10\n",
            "Введите 4-й элемент списка:-3\n",
            "Исходный список: [1.0, 6.0, -10.0, -3.0]\n",
            "Положительные числа: [1.0, 6.0]\n",
            "Отрицательные числа: [-10.0, -3.0]\n",
            "Ср. арифм.: 3.50\n",
            "Ср. геом.: 5.48\n"
          ]
        }
      ]
    },
    {
      "cell_type": "code",
      "source": [
        "\n",
        "# Задание task_02_30.\n",
        "\n",
        "\n",
        "# Все разделенные пробелом элементы будут преобразованы в список целых чисел\n",
        "nums = [int(item) for item in input().split()]\n",
        "\n",
        "# 1. Все положительные\n",
        "\n",
        "for item in nums:\n",
        "    if item <= 0:\n",
        "        all_pos_1 = False\n",
        "        break\n",
        "else:\n",
        "    all_pos_1 = True\n",
        "\n",
        "all_pos_2 = all([item > 0 for item in nums])\n",
        "\n",
        "# 2. Хотя бы 1 нулевой элемент\n",
        "for item in nums:\n",
        "    if item == 0:\n",
        "        any_zero_1 = True\n",
        "        break\n",
        "else:\n",
        "    any_zero_1 = False\n",
        "\n",
        "any_zero_2 = any([item == 0 for item in nums])\n",
        "\n",
        "# 3. Все четные\n",
        "all_even_1 = True\n",
        "for item in nums:\n",
        "    if item % 2 != 0:\n",
        "        all_even_1 = False\n",
        "        break\n",
        "all_even_2 = all([item %2 == 0 for item in nums])\n",
        "\n",
        "# 4. Хотя бы 1 нечетный элемент\n",
        "any_odd_1 = False\n",
        "for item in nums:\n",
        "  if item %2!=0:\n",
        "    any_odd_1 = True\n",
        "    break\n",
        "any_odd_1= any([item%2!=0 for item in nums])\n",
        "for item in nums:\n",
        "    if item % 2 != 0:\n",
        "        any_odd_1 = True\n",
        "        break\n",
        "\n",
        "any_odd_2 = any([item % 2 != 0 for item in nums])\n",
        "print(\"Все положительные:\", all_pos_1, all_pos_2)\n",
        "print(\"Хотя бы 1 нулевой элемент:\", any_zero_1, any_zero_2)\n",
        "print(\"Все четные:\", all_even_1, all_even_2)\n",
        "print(\"Хотя бы 1 нечетный элемент:\", any_odd_1, any_odd_2)\n",
        "\n",
        "# --------------\n",
        "# Пример вывода:\n",
        "#\n",
        "# -1 1 100 0\n",
        "# Все положительные: False False\n",
        "# Хотя бы 1 нулевой элемент: True True\n",
        "# Все четные: False False\n",
        "# Хотя бы 1 нечетный элемент: True True"
      ],
      "metadata": {
        "colab": {
          "base_uri": "https://localhost:8080/"
        },
        "id": "Ne2M4HvPudg1",
        "outputId": "fe29846e-5f3e-4e13-8063-87520f9b4c08"
      },
      "execution_count": null,
      "outputs": [
        {
          "output_type": "stream",
          "name": "stdout",
          "text": [
            "-1 1 100 0\n",
            "Все положительные: False False\n",
            "Хотя бы 1 нулевой элемент: True True\n",
            "Все четные: False False\n",
            "Хотя бы 1 нечетный элемент: True True\n"
          ]
        }
      ]
    },
    {
      "cell_type": "code",
      "source": [
        "# Задание task_02_31.\n",
        "#\n",
        "# Выполнил: Фамилия И.О.\n",
        "# Группа: !!!\n",
        "\n",
        "\n",
        "\n",
        "s = input(\"Введите предложение: \")\n",
        "k = input(\"Введите букву: \")\n",
        "\n",
        "sentence = \" \".join([word for word in s.split() if k.lower() not in word.lower()])\n",
        "print(sentence)\n",
        "# --------------\n",
        "# Пример вывода:\n",
        "#\n",
        "# Введите предложение = МАМА мыла РаМу\n",
        "# Введите букву = р\n",
        "# МАМА мыла"
      ],
      "metadata": {
        "colab": {
          "base_uri": "https://localhost:8080/"
        },
        "id": "jhhaG0opuddP",
        "outputId": "b9e22e48-58a4-43eb-b43d-01c7cd6d0adc"
      },
      "execution_count": null,
      "outputs": [
        {
          "output_type": "stream",
          "name": "stdout",
          "text": [
            "Введите предложение: МАМА мыла РаМу\n",
            "Введите букву: h\n",
            "МАМА мыла РаМу\n"
          ]
        }
      ]
    },
    {
      "cell_type": "code",
      "source": [
        "\n",
        "# Задание task_02_32.\n",
        "#\n",
        "# Выполнил: Фамилия И.О.\n",
        "# Группа: !!!\n",
        "\n",
        "\n",
        "\n",
        "n = int(input(\"Количество рядов = \"))\n",
        "\n",
        "# 1. Заполнение мест\n",
        "seats = []\n",
        "for i in range(n):\n",
        "  row_str = input()\n",
        "  row = [int(item) for item in row_str.split()]\n",
        "  seats.append(row)\n",
        "\n",
        "# 2. Всего свободных мест\n",
        "count = 0\n",
        "for row in seats:\n",
        "    for seat in row:\n",
        "        if seat == 0:\n",
        "            count += 1\n",
        "\n",
        "# 3. Ввод значений для поиска\n",
        "#    Учитывайте, что пользователь привык считать с 1, а не с 0,\n",
        "#    поэтому введенные сообщения необходимо скорректировать\n",
        "n_p, m_p = [int(item) for item in input(\"Введите ряд и место через пробел: \").split()]\n",
        "\n",
        "# n_p, m, p не должны выходить за границы\n",
        "# Если выходит, необходимо указать, что \"Такого места не существует\"\n",
        "if n_p < 1 or n_p > len(seats) or m_p < 1 or m_p > len(seats[n_p - 1]):\n",
        "    print(\"Такого места не существует\")\n",
        "else:\n",
        "    is_free = seats[n_p - 1][m_p - 1] == 0 # Доступ к элементу, учитывая нумерацию с 1\n",
        "    print(f\"Место свободно: {is_free}\")\n",
        "\n",
        "print(\"Всего свободных мест:\", count)\n",
        "\n",
        "# --------------\n",
        "# Пример вывода:\n",
        "#\n",
        "# Количество рядов = 3\n",
        "# 0 0 0\n",
        "# 1 1 1\n",
        "# 0 0 0 0 1\n",
        "# Всего свободных мест: 7\n",
        "# Введите ряд и место через пробел: 1 1\n",
        "# Место свободно: True"
      ],
      "metadata": {
        "colab": {
          "base_uri": "https://localhost:8080/"
        },
        "id": "BP1wfncDudau",
        "outputId": "d00cafbf-9bc5-42ea-9533-52298ee54b4b"
      },
      "execution_count": null,
      "outputs": [
        {
          "output_type": "stream",
          "name": "stdout",
          "text": [
            "Количество рядов = 3\n",
            "0 0 0\n",
            "1 1 1 \n",
            "0 0 0 0 1\n",
            "Введите ряд и место через пробел: 1 1 \n",
            "Место свободно: True\n",
            "Всего свободных мест: 7\n"
          ]
        }
      ]
    },
    {
      "cell_type": "code",
      "source": [
        "# Задание task_02_33.\n",
        "#\n",
        "# Выполнил: Фамилия И.О.\n",
        "# Группа: !!!\n",
        "\n",
        "\n",
        "\n",
        "# 1. Заполнение списка\n",
        "\n",
        "# Используйте данный список для собственных тестов,\n",
        "# чтобы избежать постоянного ввода значений\n",
        "# Перед автоматической проверкой удалите/закомментируйте его\n",
        "# и используйте ввод с клавиатуры\n",
        "employees = [\n",
        "    [\"Петрова\", \"Анна\", \"Алексеевна\", \"Ж\", 5],\n",
        "    [\"Семенов\", \"Николай\", \"Михайлович\", \"М\", 2],\n",
        "    [\"Михайлов\", \"Игорь\", \"Васильевич\", \"М\", 3]\n",
        "]\n",
        "\n",
        "n = # Удалите комментарий и допишите код\n",
        "\n",
        "employees = []\n",
        "# Удалите комментарий и допишите код\n",
        "\n",
        "# 2. Cамый «молодой» и самый «старый» сотрудник\n",
        "# Удалите комментарий и допишите код\n",
        "employee_min = # Удалите комментарий и допишите код\n",
        "employee_max = # Удалите комментарий и допишите код\n",
        "print(\"Cамый \\\"молодой\\\": {}\".format(\" \".join(employee_min[:3])))\n",
        "# Удалите комментарий и допишите код\n",
        "\n",
        "# 3. Отдельные списки мужчин и женщин\n",
        "#    В данном случае удобно использовать списковые включения\n",
        "men = # Удалите комментарий и допишите код\n",
        "women = # Удалите комментарий и допишите код\n",
        "\n",
        "k = # Удалите комментарий и допишите код\n",
        "\n",
        "men_k_count = 0\n",
        "# Удалите комментарий и допишите код\n",
        "\n",
        "women_k_count = 0\n",
        "# Удалите комментарий и допишите код\n",
        "\n",
        "# Удалите комментарий и допишите код\n",
        "\n",
        "\n",
        "# --------------\n",
        "# Пример вывода:\n",
        "#\n",
        "# Количество сотрудников = 3\n",
        "# Петрова Анна Алексеевна Ж 5\n",
        "# Семенов Николай Михайлович М 2\n",
        "# Михайлов Игорь Васильевич М 3\n",
        "# Cамый \"молодой\": Семенов Николай Михайлович\n",
        "# Cамый \"старый\": Петрова Анна Алексеевна\n",
        "# Введите букву начала имени = а\n",
        "# У женщин таких имен больше\n",
        "#\n",
        "# Количество сотрудников = 3\n",
        "# Петрова Анна Алексеевна Ж 5\n",
        "# Семенов Николай Михайлович М 2\n",
        "# Михайлов Игорь Васильевич М 3\n",
        "# Cамый \"молодой\": Семенов Николай Михайлович\n",
        "# Cамый \"старый\": Петрова Анна Алексеевна\n",
        "# Введите букву начала имени = и\n",
        "# У мужчин таких имен больше\n",
        "#\n",
        "# Количество сотрудников = 3\n",
        "# Петрова Анна Алексеевна Ж 5\n",
        "# Семенов Николай Михайлович М 2\n",
        "# Михайлов Алексей Васильевич М 3\n",
        "# Cамый \"молодой\": Семенов Николай Михайлович\n",
        "# Cамый \"старый\": Петрова Анна Алексеевна\n",
        "# Введите букву начала имени = а\n",
        "# Таких имен поровну у мужчин и женщин"
      ],
      "metadata": {
        "id": "ctYrh_WeudY2",
        "colab": {
          "base_uri": "https://localhost:8080/",
          "height": 245
        },
        "outputId": "a7490881-06d3-40cb-d245-1110b2db211e"
      },
      "execution_count": 1,
      "outputs": [
        {
          "name": "stdout",
          "output_type": "stream",
          "text": [
            "Количество сотрудников =  3\n",
            "5\n"
          ]
        },
        {
          "output_type": "error",
          "ename": "ValueError",
          "evalue": "not enough values to unpack (expected 5, got 1)",
          "traceback": [
            "\u001b[0;31m---------------------------------------------------------------------------\u001b[0m",
            "\u001b[0;31mValueError\u001b[0m                                Traceback (most recent call last)",
            "\u001b[0;32m<ipython-input-1-c1bdccc3ab75>\u001b[0m in \u001b[0;36m<cell line: 0>\u001b[0;34m()\u001b[0m\n\u001b[1;32m      9\u001b[0m     \u001b[0;32mfor\u001b[0m \u001b[0m_\u001b[0m \u001b[0;32min\u001b[0m \u001b[0mrange\u001b[0m\u001b[0;34m(\u001b[0m\u001b[0mn\u001b[0m\u001b[0;34m)\u001b[0m\u001b[0;34m:\u001b[0m\u001b[0;34m\u001b[0m\u001b[0;34m\u001b[0m\u001b[0m\n\u001b[1;32m     10\u001b[0m         \u001b[0mentry\u001b[0m \u001b[0;34m=\u001b[0m \u001b[0minput\u001b[0m\u001b[0;34m(\u001b[0m\u001b[0;34m''\u001b[0m\u001b[0;34m)\u001b[0m\u001b[0;34m\u001b[0m\u001b[0;34m\u001b[0m\u001b[0m\n\u001b[0;32m---> 11\u001b[0;31m         \u001b[0msurname\u001b[0m\u001b[0;34m,\u001b[0m \u001b[0mname\u001b[0m\u001b[0;34m,\u001b[0m \u001b[0msurname2\u001b[0m\u001b[0;34m,\u001b[0m \u001b[0mgender\u001b[0m\u001b[0;34m,\u001b[0m \u001b[0mexperience\u001b[0m \u001b[0;34m=\u001b[0m \u001b[0mentry\u001b[0m\u001b[0;34m.\u001b[0m\u001b[0msplit\u001b[0m\u001b[0;34m(\u001b[0m\u001b[0;34m)\u001b[0m\u001b[0;34m\u001b[0m\u001b[0;34m\u001b[0m\u001b[0m\n\u001b[0m\u001b[1;32m     12\u001b[0m         \u001b[0mint_exp\u001b[0m \u001b[0;34m=\u001b[0m \u001b[0mint\u001b[0m\u001b[0;34m(\u001b[0m\u001b[0mexperience\u001b[0m\u001b[0;34m)\u001b[0m\u001b[0;34m\u001b[0m\u001b[0;34m\u001b[0m\u001b[0m\n\u001b[1;32m     13\u001b[0m         \u001b[0memployees\u001b[0m\u001b[0;34m.\u001b[0m\u001b[0mappend\u001b[0m\u001b[0;34m(\u001b[0m\u001b[0;34m[\u001b[0m\u001b[0msurname\u001b[0m\u001b[0;34m,\u001b[0m \u001b[0mname\u001b[0m\u001b[0;34m,\u001b[0m \u001b[0msurname2\u001b[0m\u001b[0;34m,\u001b[0m \u001b[0mgender\u001b[0m\u001b[0;34m,\u001b[0m \u001b[0mint_exp\u001b[0m\u001b[0;34m]\u001b[0m\u001b[0;34m)\u001b[0m\u001b[0;34m\u001b[0m\u001b[0;34m\u001b[0m\u001b[0m\n",
            "\u001b[0;31mValueError\u001b[0m: not enough values to unpack (expected 5, got 1)"
          ]
        }
      ]
    },
    {
      "cell_type": "code",
      "source": [
        "\n",
        "# Задание task_02_34.\n",
        "#\n",
        "# Выполнил: Фамилия И.О.\n",
        "# Группа: !!!\n",
        "\n",
        "\n",
        "\n",
        "# 1. Заполнение списка\n",
        "\n",
        "# Используйте данный список для собственных тестов,\n",
        "# чтобы избежать постоянного ввода значений\n",
        "# Перед автоматической проверкой удалите его\n",
        "# и используйте ввод с клавиатуры\n",
        "# deposits = [\n",
        "#    {\"name\": \"Банк_1\", \"initial_sum\": 50000, \"rate\": 5.2},\n",
        "#    {\"name\": \"Банк_2\", \"initial_sum\": 20000, \"rate\": 3.7},\n",
        "#    {\"name\": \"Банк_3\", \"initial_sum\": 45000, \"rate\": 6.8},\n",
        "# ]\n",
        "\n",
        "n = # Удалите комментарий и допишите код\n",
        "\n",
        "deposits = []\n",
        "# Удалите комментарий и допишите код\n",
        "\n",
        "# 2. Самый доступный банк (с наименьшей первоначальной суммой)\n",
        "\n",
        "# Удалите комментарий и допишите код\n",
        "\n",
        "# 3. Самый выгодный банк\n",
        "#    прибыль = сумма * процент / 100\n",
        "\n",
        "# Удалите комментарий и допишите код\n",
        "\n",
        "# --------------\n",
        "# Пример вывода:\n",
        "#\n",
        "# Количество банков = 3\n",
        "# Банк_1 50000 5.2\n",
        "# Банк_2 20000 3.7\n",
        "# Банк_3 45000 6.8\n",
        "# Самый доступный банк: Банк_2, первоначальная сумма: 20000.00 руб.\n",
        "# Самый выгодный банк: Банк_3, прибыль: 3060.00 руб."
      ],
      "metadata": {
        "id": "TGkZ2gxFudWe"
      },
      "execution_count": null,
      "outputs": []
    },
    {
      "cell_type": "code",
      "source": [
        "# 1. Заполнение списка\n",
        "\n",
        "# Используйте данный список для собственных тестов,\n",
        "# чтобы избежать постоянного ввода значений\n",
        "# Перед автоматической проверкой удалите его\n",
        "# и используйте ввод с клавиатуры\n",
        "# deposits = [\n",
        "#    {\"name\": \"Банк_1\", \"initial_sum\": 50000, \"rate\": 5.2},\n",
        "#    {\"name\": \"Банк_2\", \"initial_sum\": 20000, \"rate\": 3.7},\n",
        "#    {\"name\": \"Банк_3\", \"initial_sum\": 45000, \"rate\": 6.8},\n",
        "# ]\n",
        "\n",
        "n = int(input((\"Количество банков = \")))\n",
        "\n",
        "deposits = []\n",
        "for i in range(n):\n",
        "  l = input()\n",
        "  name, initial_sum, rate = l.split()\n",
        "  deposits.append({\n",
        "        \"name\": name,\n",
        "        \"initial_sum\": int(initial_sum),\n",
        "        \"rate\": float(rate)\n",
        "    })\n",
        "\n",
        "# 2. Самый доступный банк (с наименьшей первоначальной суммой)\n",
        "\n",
        "banр = min(deposits, key=lambda bank: bank[\"initial_sum\"])\n",
        "\n",
        "# 3. Самый выгодный банк\n",
        "#    прибыль = сумма * процент / 100\n",
        "\n",
        "for bank in deposits:\n",
        "    bank[\"profit\"] = bank[\"initial_sum\"] * bank[\"rate\"] / 100\n",
        "\n",
        "profitable_bank = max(deposits, key=lambda bank: bank[\"profit\"])\n",
        "\n",
        "\n",
        "print(f\"Самый доступный банк: {banр['name']}, первоначальная сумма: {banр['initial_sum']:.2f} руб.\")\n",
        "print(f\"Самый выгодный банк: {profitable_bank['name']}, прибыль: {profitable_bank['profit']:.2f} руб.\")"
      ],
      "metadata": {
        "id": "D5r1gw2FudUL",
        "colab": {
          "base_uri": "https://localhost:8080/",
          "height": 245
        },
        "outputId": "66619e28-e247-4c31-fabe-2310d0347624"
      },
      "execution_count": null,
      "outputs": [
        {
          "name": "stdout",
          "output_type": "stream",
          "text": [
            "Количество банков = 3\n",
            "5.2\n"
          ]
        },
        {
          "output_type": "error",
          "ename": "ValueError",
          "evalue": "not enough values to unpack (expected 3, got 1)",
          "traceback": [
            "\u001b[0;31m---------------------------------------------------------------------------\u001b[0m",
            "\u001b[0;31mValueError\u001b[0m                                Traceback (most recent call last)",
            "\u001b[0;32m<ipython-input-1-2b154a33ed26>\u001b[0m in \u001b[0;36m<cell line: 0>\u001b[0;34m()\u001b[0m\n\u001b[1;32m     16\u001b[0m \u001b[0;32mfor\u001b[0m \u001b[0mi\u001b[0m \u001b[0;32min\u001b[0m \u001b[0mrange\u001b[0m\u001b[0;34m(\u001b[0m\u001b[0mn\u001b[0m\u001b[0;34m)\u001b[0m\u001b[0;34m:\u001b[0m\u001b[0;34m\u001b[0m\u001b[0;34m\u001b[0m\u001b[0m\n\u001b[1;32m     17\u001b[0m   \u001b[0ml\u001b[0m \u001b[0;34m=\u001b[0m \u001b[0minput\u001b[0m\u001b[0;34m(\u001b[0m\u001b[0;34m)\u001b[0m\u001b[0;34m\u001b[0m\u001b[0;34m\u001b[0m\u001b[0m\n\u001b[0;32m---> 18\u001b[0;31m   \u001b[0mname\u001b[0m\u001b[0;34m,\u001b[0m \u001b[0minitial_sum\u001b[0m\u001b[0;34m,\u001b[0m \u001b[0mrate\u001b[0m \u001b[0;34m=\u001b[0m \u001b[0ml\u001b[0m\u001b[0;34m.\u001b[0m\u001b[0msplit\u001b[0m\u001b[0;34m(\u001b[0m\u001b[0;34m)\u001b[0m\u001b[0;34m\u001b[0m\u001b[0;34m\u001b[0m\u001b[0m\n\u001b[0m\u001b[1;32m     19\u001b[0m   deposits.append({\n\u001b[1;32m     20\u001b[0m         \u001b[0;34m\"name\"\u001b[0m\u001b[0;34m:\u001b[0m \u001b[0mname\u001b[0m\u001b[0;34m,\u001b[0m\u001b[0;34m\u001b[0m\u001b[0;34m\u001b[0m\u001b[0m\n",
            "\u001b[0;31mValueError\u001b[0m: not enough values to unpack (expected 3, got 1)"
          ]
        }
      ]
    }
  ]
}