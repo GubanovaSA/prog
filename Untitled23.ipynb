{
  "nbformat": 4,
  "nbformat_minor": 0,
  "metadata": {
    "colab": {
      "provenance": [],
      "authorship_tag": "ABX9TyOd9goP12puJzbi/Pqgnzpw",
      "include_colab_link": true
    },
    "kernelspec": {
      "name": "python3",
      "display_name": "Python 3"
    },
    "language_info": {
      "name": "python"
    }
  },
  "cells": [
    {
      "cell_type": "markdown",
      "metadata": {
        "id": "view-in-github",
        "colab_type": "text"
      },
      "source": [
        "<a href=\"https://colab.research.google.com/github/GubanovaSA/prog/blob/main/Untitled23.ipynb\" target=\"_parent\"><img src=\"https://colab.research.google.com/assets/colab-badge.svg\" alt=\"Open In Colab\"/></a>"
      ]
    },
    {
      "cell_type": "code",
      "source": [
        "import random  # Импортируем модуль для генерации случайных чисел\n",
        "\n",
        "# Функция бинарного поиска в отсортированном массиве\n",
        "def binary_search(arr, target):\n",
        "    left, right = 0, len(arr) - 1  # Устанавливаем границы поиска\n",
        "\n",
        "    while left <= right:  # Пока границы не пересеклись\n",
        "        mid = (left + right) // 2  # Находим середину текущего диапазона\n",
        "\n",
        "        # Сравниваем элемент с целевым значением с учетом погрешности float\n",
        "        if abs(arr[mid] - target) < 1e-9:\n",
        "            return mid  # Элемент найден, возвращаем индекс\n",
        "\n",
        "        elif arr[mid] < target:  # Если элемент в середине меньше целевого\n",
        "            left = mid + 1  # Сдвигаем левую границу вправо\n",
        "        else:  # Если элемент в середине больше целевого\n",
        "            right = mid - 1  # Сдвигаем правую границу влево\n",
        "\n",
        "    return -1  # Элемент не найден\n",
        "\n",
        "# Генерация отсортированного массива из 1000 случайных float чисел от 0 до 100\n",
        "sorted_float_array = sorted([random.uniform(0, 100) for _ in range(1000)])\n",
        "\n",
        "# Проверяем наличие числа 50.5 в массиве, если нет - добавляем\n",
        "if 50.5 not in sorted_float_array:\n",
        "    sorted_float_array.append(50.5)\n",
        "    sorted_float_array.sort()  # Снова сортируем после добавления\n",
        "\n",
        "# Выполняем бинарный поиск числа 50.5\n",
        "result = binary_search(sorted_float_array, 50.5)\n",
        "print(f\"Число 50.5 найдено на позиции: {result}\")\n",
        "\n",
        "\n",
        "\n",
        "\n",
        "# Функция сортировки прямым выбором\n",
        "def selection_sort(arr):\n",
        "    for i in range(len(arr)):  # Проходим по всем элементам массива\n",
        "        min_index = i  # Считаем текущий элемент минимальным\n",
        "\n",
        "        # Ищем минимальный элемент в оставшейся части массива\n",
        "        for j in range(i + 1, len(arr)):\n",
        "            if arr[j] < arr[min_index]:\n",
        "                min_index = j  # Нашли новый минимальный элемент\n",
        "\n",
        "        # Меняем местами текущий элемент с найденным минимальным\n",
        "        arr[i], arr[min_index] = arr[min_index], arr[i]\n",
        "\n",
        "    return arr  # Возвращаем отсортированный массив\n",
        "\n",
        "# Генерация случайного массива из 20 float чисел от 0 до 100\n",
        "float_array = [random.uniform(0, 100) for _ in range(20)]\n",
        "print(\"До сортировки:\", float_array[:5], \"...\")  # Выводим первые 5 элементов\n",
        "\n",
        "# Сортируем копию массива методом прямого выбора\n",
        "sorted_array = selection_sort(float_array.copy())\n",
        "print(\"После сортировки прямым выбором:\", sorted_array[:5], \"...\")\n",
        "\n",
        "\n",
        "\n",
        "# Функция пузырьковой сортировки (bubble sort)\n",
        "def bubble_sort(arr):\n",
        "    n = len(arr)\n",
        "    for i in range(n):  # Внешний цикл по всем элементам\n",
        "        swapped = False  # Флаг для оптимизации (проверка на обмены)\n",
        "\n",
        "        # Внутренний цикл - проходим по неотсортированной части массива\n",
        "        for j in range(0, n-i-1):\n",
        "            if arr[j] > arr[j+1]:  # Если текущий элемент больше следующего\n",
        "                # Меняем элементы местами\n",
        "                arr[j], arr[j+1] = arr[j+1], arr[j]\n",
        "                swapped = True  # Был произведен обмен\n",
        "\n",
        "        if not swapped:  # Если обменов не было - массив отсортирован\n",
        "            break  # Выходим из цикла досрочно\n",
        "\n",
        "    return arr  # Возвращаем отсортированный массив\n",
        "\n",
        "# Сортируем копию массива пузырьковым методом\n",
        "bubble_sorted = bubble_sort(float_array.copy())\n",
        "print(\"После пузырьковой сортировки:\", bubble_sorted[:5], \"...\")"
      ],
      "metadata": {
        "colab": {
          "base_uri": "https://localhost:8080/"
        },
        "id": "bDOlE5qYhYc3",
        "outputId": "2426c0eb-00ad-475d-938e-09c69f3f9bcc"
      },
      "execution_count": 2,
      "outputs": [
        {
          "output_type": "stream",
          "name": "stdout",
          "text": [
            "Число 50.5 найдено на позиции: 519\n",
            "До сортировки: [27.917034741931403, 75.50011574251828, 76.42579206074008, 38.15125788413369, 40.06878017484796] ...\n",
            "После сортировки прямым выбором: [8.694903992336943, 16.248555066087768, 18.737774659139994, 22.40878251743834, 27.917034741931403] ...\n",
            "После пузырьковой сортировки: [8.694903992336943, 16.248555066087768, 18.737774659139994, 22.40878251743834, 27.917034741931403] ...\n"
          ]
        }
      ]
    }
  ]
}